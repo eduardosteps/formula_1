{
 "cells": [
  {
   "cell_type": "code",
   "execution_count": 0,
   "metadata": {
    "application/vnd.databricks.v1+cell": {
     "cellMetadata": {
      "byteLimit": 2048000,
      "rowLimit": 10000
     },
     "inputWidgets": {},
     "nuid": "a3d57faf-6850-4593-997e-1c7130318a6b",
     "showTitle": false,
     "title": ""
    }
   },
   "outputs": [],
   "source": [
    "circuits_df = spark.read.parquet('/mnt/formula1storageedu/processed/circuits/') \\\n",
    "        .withColumnRenamed('location', 'circuit_location')\n",
    "\n",
    "constructors_df = spark.read.parquet('/mnt/formula1storageedu/processed/constructors/') \\\n",
    "        .withColumnRenamed('name', 'team')\n",
    "\n",
    "drivers_df = spark.read.parquet('/mnt/formula1storageedu/processed/drivers/') \\\n",
    "        .withColumnRenamed('number', 'driver_number') \\\n",
    "        .withColumnRenamed('name', 'driver_name') \\\n",
    "        .withColumnRenamed('nationality', 'driver_nationality')\n",
    "\n",
    "races_df = spark.read.parquet('/mnt/formula1storageedu/processed/races/') \\\n",
    "        .withColumnRenamed('name', 'race_name') \\\n",
    "        .withColumnRenamed('race_timestamp', 'race_date')\n",
    "\n",
    "results_df = spark.read.parquet('/mnt/formula1storageedu/processed/results/') \\\n",
    "        .withColumnRenamed('time', 'race_time')"
   ]
  },
  {
   "cell_type": "code",
   "execution_count": 0,
   "metadata": {
    "application/vnd.databricks.v1+cell": {
     "cellMetadata": {
      "byteLimit": 2048000,
      "rowLimit": 10000
     },
     "inputWidgets": {},
     "nuid": "287f3cfc-234b-4333-8bea-c584b9b4821b",
     "showTitle": true,
     "title": "Joining Circuits and Races"
    }
   },
   "outputs": [],
   "source": [
    "circuits_races_df = circuits_df.join(races_df, circuits_df.circuit_id == races_df.circuit_id, 'inner') \\\n",
    "        .select(races_df.race_id, races_df.race_year, races_df.race_name, races_df.race_date, circuits_df.circuit_location)"
   ]
  },
  {
   "cell_type": "code",
   "execution_count": 0,
   "metadata": {
    "application/vnd.databricks.v1+cell": {
     "cellMetadata": {
      "byteLimit": 2048000,
      "rowLimit": 10000
     },
     "inputWidgets": {},
     "nuid": "e73fe93c-c6c4-4f7e-ad07-b7ba862de18b",
     "showTitle": true,
     "title": "Joining Circuits_Races with the rest"
    }
   },
   "outputs": [],
   "source": [
    "race_results_df = circuits_races_df.join(results_df, circuits_races_df.race_id == results_df.race_id, 'inner') \\\n",
    "                                   .join(drivers_df, results_df.driver_id == drivers_df.driver_id, 'inner') \\\n",
    "                                   .join(constructors_df, results_df.constructor_id == constructors_df.constructor_id, 'inner')"
   ]
  },
  {
   "cell_type": "code",
   "execution_count": 0,
   "metadata": {
    "application/vnd.databricks.v1+cell": {
     "cellMetadata": {
      "byteLimit": 2048000,
      "rowLimit": 10000
     },
     "inputWidgets": {},
     "nuid": "d7a69ecc-8e71-4624-91c3-569fe9888184",
     "showTitle": true,
     "title": "DataViz Final Table"
    }
   },
   "outputs": [],
   "source": [
    "from pyspark.sql.functions import current_timestamp, from_utc_timestamp\n",
    "\n",
    "dataviz_df = race_results_df.select('race_year', \n",
    "                                    'race_name', \n",
    "                                    'race_date', \n",
    "                                    'circuit_location', \n",
    "                                    'driver_name', \n",
    "                                    'driver_number', \n",
    "                                    'driver_nationality',\n",
    "                                    'team',\n",
    "                                    'grid',\n",
    "                                    'fastest_lap',\n",
    "                                    'race_time',\n",
    "                                    'points') \\\n",
    "                            .withColumn('creation_date', from_utc_timestamp(current_timestamp(), 'America/Sao_Paulo'))"
   ]
  },
  {
   "cell_type": "code",
   "execution_count": 0,
   "metadata": {
    "application/vnd.databricks.v1+cell": {
     "cellMetadata": {
      "byteLimit": 2048000,
      "rowLimit": 10000
     },
     "inputWidgets": {},
     "nuid": "b591af68-eb5f-4e19-8846-811376bc5983",
     "showTitle": false,
     "title": ""
    }
   },
   "outputs": [
    {
     "output_type": "stream",
     "name": "stdout",
     "output_type": "stream",
     "text": [
      "Out[5]: [('race_year', 'int'),\n ('race_name', 'string'),\n ('race_date', 'timestamp'),\n ('circuit_location', 'string'),\n ('driver_name', 'string'),\n ('driver_number', 'string'),\n ('driver_nationality', 'string'),\n ('team', 'string'),\n ('grid', 'int'),\n ('fastest_lap', 'int'),\n ('race_time', 'string'),\n ('points', 'float'),\n ('creation_date', 'timestamp')]"
     ]
    }
   ],
   "source": [
    "dataviz_df.dtypes"
   ]
  },
  {
   "cell_type": "code",
   "execution_count": 0,
   "metadata": {
    "application/vnd.databricks.v1+cell": {
     "cellMetadata": {
      "byteLimit": 2048000,
      "rowLimit": 10000
     },
     "inputWidgets": {},
     "nuid": "27e94d4b-85ff-4963-be3c-ed0ce437fa1d",
     "showTitle": true,
     "title": "Replacing the \\N by \"Null\" values"
    }
   },
   "outputs": [],
   "source": [
    "from pyspark.sql.functions import when\n",
    "\n",
    "dataviz_df = dataviz_df.withColumn(\"race_time\", when(dataviz_df.race_time == r\"\\N\", None).otherwise(dataviz_df.race_time))"
   ]
  },
  {
   "cell_type": "code",
   "execution_count": 0,
   "metadata": {
    "application/vnd.databricks.v1+cell": {
     "cellMetadata": {
      "byteLimit": 2048000,
      "rowLimit": 10000
     },
     "inputWidgets": {},
     "nuid": "b16ef4e0-9eec-4c2d-a3c4-367ba0f2bf8a",
     "showTitle": true,
     "title": "Example of Filter"
    }
   },
   "outputs": [
    {
     "output_type": "display_data",
     "data": {
      "text/html": [
       "<style scoped>\n",
       "  .table-result-container {\n",
       "    max-height: 300px;\n",
       "    overflow: auto;\n",
       "  }\n",
       "  table, th, td {\n",
       "    border: 1px solid black;\n",
       "    border-collapse: collapse;\n",
       "  }\n",
       "  th, td {\n",
       "    padding: 5px;\n",
       "  }\n",
       "  th {\n",
       "    text-align: left;\n",
       "  }\n",
       "</style><div class='table-result-container'><table class='table-result'><thead style='background-color: white'><tr><th>race_year</th><th>race_name</th><th>race_date</th><th>circuit_location</th><th>driver_name</th><th>driver_number</th><th>driver_nationality</th><th>team</th><th>grid</th><th>fastest_lap</th><th>race_time</th><th>points</th><th>creation_date</th></tr></thead><tbody><tr><td>2022</td><td>Abu Dhabi Grand Prix</td><td>2022-11-20T13:00:00.000+0000</td><td>Abu Dhabi</td><td>Max Verstappen</td><td>33</td><td>Dutch</td><td>Red Bull</td><td>1</td><td>54</td><td>1:27:45.914</td><td>25.0</td><td>2023-05-09T08:32:48.976+0000</td></tr><tr><td>2022</td><td>Abu Dhabi Grand Prix</td><td>2022-11-20T13:00:00.000+0000</td><td>Abu Dhabi</td><td>Charles Leclerc</td><td>16</td><td>Monegasque</td><td>Ferrari</td><td>3</td><td>48</td><td>+8.771</td><td>18.0</td><td>2023-05-09T08:32:48.976+0000</td></tr><tr><td>2022</td><td>Abu Dhabi Grand Prix</td><td>2022-11-20T13:00:00.000+0000</td><td>Abu Dhabi</td><td>Sergio Pérez</td><td>11</td><td>Mexican</td><td>Red Bull</td><td>2</td><td>52</td><td>+10.093</td><td>15.0</td><td>2023-05-09T08:32:48.976+0000</td></tr><tr><td>2022</td><td>Abu Dhabi Grand Prix</td><td>2022-11-20T13:00:00.000+0000</td><td>Abu Dhabi</td><td>Carlos Sainz</td><td>55</td><td>Spanish</td><td>Ferrari</td><td>4</td><td>50</td><td>+24.892</td><td>12.0</td><td>2023-05-09T08:32:48.976+0000</td></tr><tr><td>2022</td><td>Abu Dhabi Grand Prix</td><td>2022-11-20T13:00:00.000+0000</td><td>Abu Dhabi</td><td>George Russell</td><td>63</td><td>British</td><td>Mercedes</td><td>6</td><td>48</td><td>+35.888</td><td>10.0</td><td>2023-05-09T08:32:48.976+0000</td></tr></tbody></table></div>"
      ]
     },
     "metadata": {
      "application/vnd.databricks.v1+output": {
       "addedWidgets": {},
       "aggData": [],
       "aggError": "",
       "aggOverflow": false,
       "aggSchema": [],
       "aggSeriesLimitReached": false,
       "aggType": "",
       "arguments": {},
       "columnCustomDisplayInfos": {},
       "data": [
        [
         2022,
         "Abu Dhabi Grand Prix",
         "2022-11-20T13:00:00.000+0000",
         "Abu Dhabi",
         "Max Verstappen",
         "33",
         "Dutch",
         "Red Bull",
         1,
         54,
         "1:27:45.914",
         25.0,
         "2023-05-09T08:32:48.976+0000"
        ],
        [
         2022,
         "Abu Dhabi Grand Prix",
         "2022-11-20T13:00:00.000+0000",
         "Abu Dhabi",
         "Charles Leclerc",
         "16",
         "Monegasque",
         "Ferrari",
         3,
         48,
         "+8.771",
         18.0,
         "2023-05-09T08:32:48.976+0000"
        ],
        [
         2022,
         "Abu Dhabi Grand Prix",
         "2022-11-20T13:00:00.000+0000",
         "Abu Dhabi",
         "Sergio Pérez",
         "11",
         "Mexican",
         "Red Bull",
         2,
         52,
         "+10.093",
         15.0,
         "2023-05-09T08:32:48.976+0000"
        ],
        [
         2022,
         "Abu Dhabi Grand Prix",
         "2022-11-20T13:00:00.000+0000",
         "Abu Dhabi",
         "Carlos Sainz",
         "55",
         "Spanish",
         "Ferrari",
         4,
         50,
         "+24.892",
         12.0,
         "2023-05-09T08:32:48.976+0000"
        ],
        [
         2022,
         "Abu Dhabi Grand Prix",
         "2022-11-20T13:00:00.000+0000",
         "Abu Dhabi",
         "George Russell",
         "63",
         "British",
         "Mercedes",
         6,
         48,
         "+35.888",
         10.0,
         "2023-05-09T08:32:48.976+0000"
        ]
       ],
       "datasetInfos": [],
       "dbfsResultPath": null,
       "isJsonSchema": true,
       "metadata": {},
       "overflow": false,
       "plotOptions": {
        "customPlotOptions": {},
        "displayType": "table",
        "pivotAggregation": null,
        "pivotColumns": null,
        "xColumns": null,
        "yColumns": null
       },
       "removedWidgets": [],
       "schema": [
        {
         "metadata": "{}",
         "name": "race_year",
         "type": "\"integer\""
        },
        {
         "metadata": "{}",
         "name": "race_name",
         "type": "\"string\""
        },
        {
         "metadata": "{}",
         "name": "race_date",
         "type": "\"timestamp\""
        },
        {
         "metadata": "{}",
         "name": "circuit_location",
         "type": "\"string\""
        },
        {
         "metadata": "{}",
         "name": "driver_name",
         "type": "\"string\""
        },
        {
         "metadata": "{}",
         "name": "driver_number",
         "type": "\"string\""
        },
        {
         "metadata": "{}",
         "name": "driver_nationality",
         "type": "\"string\""
        },
        {
         "metadata": "{}",
         "name": "team",
         "type": "\"string\""
        },
        {
         "metadata": "{}",
         "name": "grid",
         "type": "\"integer\""
        },
        {
         "metadata": "{}",
         "name": "fastest_lap",
         "type": "\"integer\""
        },
        {
         "metadata": "{}",
         "name": "race_time",
         "type": "\"string\""
        },
        {
         "metadata": "{}",
         "name": "points",
         "type": "\"float\""
        },
        {
         "metadata": "{}",
         "name": "creation_date",
         "type": "\"timestamp\""
        }
       ],
       "type": "table"
      }
     },
     "output_type": "display_data"
    }
   ],
   "source": [
    "#This result is exactly the same as: https://www.bbc.com/sport/formula1/2022/abu-dhabi-grand-prix/results\n",
    "display(dataviz_df.filter(\"race_year == 2022 and race_name == 'Abu Dhabi Grand Prix'\").orderBy(dataviz_df.points.desc()).limit(5))"
   ]
  },
  {
   "cell_type": "code",
   "execution_count": 0,
   "metadata": {
    "application/vnd.databricks.v1+cell": {
     "cellMetadata": {
      "byteLimit": 2048000,
      "rowLimit": 10000
     },
     "inputWidgets": {},
     "nuid": "2dad2ea3-eff8-4c98-ae26-39385affa803",
     "showTitle": true,
     "title": "Exporting table to DataViz department"
    }
   },
   "outputs": [],
   "source": [
    "dataviz_df.write.mode('overwrite').parquet('/mnt/formula1storageedu/dataviz/race_results')"
   ]
  }
 ],
 "metadata": {
  "application/vnd.databricks.v1+notebook": {
   "dashboards": [],
   "language": "python",
   "notebookMetadata": {
    "pythonIndentUnit": 4
   },
   "notebookName": "race_results",
   "notebookOrigID": 2021697954945784,
   "widgets": {}
  }
 },
 "nbformat": 4,
 "nbformat_minor": 0
}
